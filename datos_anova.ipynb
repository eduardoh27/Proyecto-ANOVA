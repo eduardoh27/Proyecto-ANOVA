{
 "cells": [
  {
   "cell_type": "code",
   "execution_count": null,
   "metadata": {},
   "outputs": [],
   "source": [
    "import pandas as pd\n",
    "import numpy as np\n"
   ]
  },
  {
   "cell_type": "code",
   "execution_count": null,
   "metadata": {},
   "outputs": [],
   "source": [
    "# Definir los niveles de los factores\n",
    "momento_dia = ['mañana', 'tarde', 'noche']\n",
    "iluminacion = ['baja', 'media', 'alta']\n",
    "ruido = ['sin ruido', 'ruido medio', 'ruido alto']\n",
    "\n",
    "# Definir el número de repeticiones por tratamiento\n",
    "repeticiones = 3\n",
    "\n",
    "# Generar todas las combinaciones posibles de tratamientos\n",
    "tratamientos = [(md, il, r) for md in momento_dia for il in iluminacion for r in ruido]\n",
    "\n",
    "# Inicializar una lista para almacenar los datos generados\n",
    "datos = []\n",
    "\n",
    "# Generar los datos\n",
    "for tratamiento in tratamientos:\n",
    "    md, il, r = tratamiento\n",
    "\n",
    "    # Calcular el porcentaje de aciertos basado en los factores\n",
    "    porcentaje_aciertos = 50 + iluminacion.index(il) * 6 - ruido.index(r) * 7\n",
    "\n",
    "    mu, sigma = porcentaje_aciertos, 30# mean and standard deviation\n",
    "    s = np.random.normal(mu, sigma, 3)\n",
    "\n",
    "    # Repetir el tratamiento el número de veces especificado\n",
    "    for trat in s:\n",
    "        datos.append([md, il, r, round(abs(trat),2)])\n",
    "\n",
    "# Crear un DataFrame de pandas con los datos generados\n",
    "df = pd.DataFrame(datos, columns=['Momento del Día', 'Iluminación', 'Ruido', 'Porcentaje de Aciertos'])\n",
    "\n",
    "# Guardar los datos en un archivo Excel\n",
    "df.to_excel('datos_anova_eduardo.xlsx', index=False)\n"
   ]
  }
 ],
 "metadata": {
  "language_info": {
   "name": "python"
  },
  "orig_nbformat": 4
 },
 "nbformat": 4,
 "nbformat_minor": 2
}
